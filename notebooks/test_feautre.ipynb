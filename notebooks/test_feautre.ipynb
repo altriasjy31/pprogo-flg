{
 "cells": [
  {
   "cell_type": "code",
   "execution_count": 2,
   "metadata": {},
   "outputs": [
    {
     "name": "stderr",
     "output_type": "stream",
     "text": [
      "/root/miniconda3/envs/pytorch2.4/lib/python3.11/site-packages/torchdata/datapipes/__init__.py:18: UserWarning: \n",
      "################################################################################\n",
      "WARNING!\n",
      "The 'datapipes', 'dataloader2' modules are deprecated and will be removed in a\n",
      "future torchdata release! Please see https://github.com/pytorch/data/issues/1196\n",
      "to learn more and leave feedback.\n",
      "################################################################################\n",
      "\n",
      "  deprecation_warning()\n",
      "/root/miniconda3/envs/pytorch2.4/lib/python3.11/site-packages/tqdm/auto.py:21: TqdmWarning: IProgress not found. Please update jupyter and ipywidgets. See https://ipywidgets.readthedocs.io/en/stable/user_install.html\n",
      "  from .autonotebook import tqdm as notebook_tqdm\n"
     ]
    },
    {
     "name": "stdout",
     "output_type": "stream",
     "text": [
      "(12407300,)\n",
      "(12407300,)\n",
      "(121042,)\n",
      "(121042,)\n"
     ]
    }
   ],
   "source": [
    "import dgl\n",
    "import pandas as pd\n",
    "import torch\n",
    "import pathlib as P\n",
    "import numpy as np\n",
    "def create_graph():\n",
    "        data_path = P.Path('/root/autodl-tmp/DeepHGAT/data/bp')\n",
    "        g_path = '/root/autodl-tmp/source/pprogo-flg/dataset/bp/graph.bin'\n",
    "\n",
    "        # node = pd.read_csv(data_path.joinpath('node.dat'), header=None, sep='\\t')\n",
    "        link = pd.read_csv(data_path.joinpath('link.dat'), header=None, sep='\\t')\n",
    "        \n",
    "        p2g_src = link[link[2]==0][0].values\n",
    "        p2g_des = link[link[2]==0][1].values\n",
    "        p2p_src = link[link[2]==1][0].values\n",
    "        p2p_des = link[link[2]==1][1].values\n",
    "        g2g_src = link[link[2]==2][0].values\n",
    "        g2g_des = link[link[2]==2][1].values\n",
    "\n",
    "        print(p2p_src.shape)\n",
    "        print(p2p_des.shape)\n",
    "        print(g2g_src.shape)\n",
    "        print(g2g_des.shape)\n",
    "        graph_data = {\n",
    "            ('protein', 'interacts_0', 'go_annotation'): (torch.tensor(p2g_src),torch.tensor(p2g_des)),\n",
    "            ('protein', 'interacts_1', 'protein'): (torch.tensor(p2p_src),torch.tensor(p2p_des)),\n",
    "            ('go_annotation', 'interacts_2', 'go_annotation'): (torch.tensor(g2g_src),torch.tensor(g2g_des))\n",
    "        }\n",
    "        g = dgl.heterograph(graph_data)\n",
    "        dgl.save_graphs(g_path, g)\n",
    "        return g\n",
    "\n",
    "g = create_graph()"
   ]
  },
  {
   "cell_type": "code",
   "execution_count": 3,
   "metadata": {},
   "outputs": [
    {
     "name": "stderr",
     "output_type": "stream",
     "text": [
      "/tmp/ipykernel_629255/509964040.py:2: DtypeWarning: Columns (3) have mixed types. Specify dtype option on import or set low_memory=False.\n",
      "  nodes = pd.read_csv(data_path.joinpath('node.dat'), header=None, sep='\\t')\n"
     ]
    }
   ],
   "source": [
    "data_path = P.Path('/root/autodl-tmp/source/pprogo-flg/dataset/bp')\n",
    "nodes = pd.read_csv(data_path.joinpath('node.dat'), header=None, sep='\\t')"
   ]
  },
  {
   "cell_type": "code",
   "execution_count": 6,
   "metadata": {},
   "outputs": [
    {
     "name": "stdout",
     "output_type": "stream",
     "text": [
      "(145750, 4)\n"
     ]
    },
    {
     "name": "stderr",
     "output_type": "stream",
     "text": [
      "100%|██████████| 145750/145750 [00:19<00:00, 7484.48it/s] \n"
     ]
    }
   ],
   "source": [
    "from tqdm import tqdm\n",
    "\n",
    "nodes.columns = ['id', 'name', 'type', 'feature']\n",
    "feature_dict = {'protein':[], 'go_annotation':[]}\n",
    "print(nodes.shape)\n",
    "for _, row in tqdm(nodes.iterrows(), total=nodes.shape[0]):\n",
    "        if row['type'] == 0:\n",
    "            feature_dict['protein'].append(row['feature'].split(','))\n",
    "        if row['type'] == 1:\n",
    "            feature_dict['go_annotation'].append(row['feature'])\n"
   ]
  },
  {
   "cell_type": "code",
   "execution_count": 7,
   "metadata": {},
   "outputs": [],
   "source": [
    "print(feature_dict['protein'].shape)"
   ]
  }
 ],
 "metadata": {
  "kernelspec": {
   "display_name": "pytorch2.4",
   "language": "python",
   "name": "python3"
  },
  "language_info": {
   "codemirror_mode": {
    "name": "ipython",
    "version": 3
   },
   "file_extension": ".py",
   "mimetype": "text/x-python",
   "name": "python",
   "nbconvert_exporter": "python",
   "pygments_lexer": "ipython3",
   "version": "3.11.9"
  }
 },
 "nbformat": 4,
 "nbformat_minor": 2
}
