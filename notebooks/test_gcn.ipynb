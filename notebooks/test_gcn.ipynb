{
 "cells": [
  {
   "cell_type": "code",
   "execution_count": 1,
   "metadata": {},
   "outputs": [
    {
     "name": "stderr",
     "output_type": "stream",
     "text": [
      "/root/miniconda3/envs/pytorch2.4/lib/python3.11/site-packages/torchdata/datapipes/__init__.py:18: UserWarning: \n",
      "################################################################################\n",
      "WARNING!\n",
      "The 'datapipes', 'dataloader2' modules are deprecated and will be removed in a\n",
      "future torchdata release! Please see https://github.com/pytorch/data/issues/1196\n",
      "to learn more and leave feedback.\n",
      "################################################################################\n",
      "\n",
      "  deprecation_warning()\n",
      "/root/miniconda3/envs/pytorch2.4/lib/python3.11/site-packages/tqdm/auto.py:21: TqdmWarning: IProgress not found. Please update jupyter and ipywidgets. See https://ipywidgets.readthedocs.io/en/stable/user_install.html\n",
      "  from .autonotebook import tqdm as notebook_tqdm\n"
     ]
    }
   ],
   "source": [
    "import dgl\n",
    "\n",
    "g_path = '/root/autodl-tmp/source/pprogo-flg/data/bp/graph.dgl'\n",
    "g, _ = dgl.load_graphs(g_path)\n",
    "g = g[0]\n",
    "ppi = dgl.node_subgraph(g, {'protein': range(g.num_nodes('protein'))})\n",
    "ppi = dgl.to_homogeneous(ppi, ndata = 'h')"
   ]
  },
  {
   "cell_type": "code",
   "execution_count": 12,
   "metadata": {},
   "outputs": [],
   "source": [
    "import dgl\n",
    "import torch\n",
    "import torch.nn.functional as F\n",
    "\n",
    "\n",
    "class GCN(torch.nn.Module):\n",
    "    def __init__(self, input_features, hidden_size, num_classes, dropout=0.5, num_gcn=0):\n",
    "        super().__init__()\n",
    "        self.dropout = torch.nn.Dropout(dropout)\n",
    "        self.num_gcn = num_gcn\n",
    "        self.input = torch.nn.Linear(input_features, hidden_size)\n",
    "        self.conv1 = dgl.nn.GraphConv(hidden_size, hidden_size)\n",
    "        self.conv2 = dgl.nn.GraphConv(hidden_size, hidden_size)\n",
    "        self.output = torch.nn.Linear(hidden_size, num_classes)\n",
    "        self.input_bias = torch.nn.Parameter(torch.zeros(hidden_size))\n",
    "        \n",
    "        \n",
    "    def forward(self, blocks, x):\n",
    "        outputs = self.dropout(F.relu(self.input(x)) + self.input_bias)\n",
    "        outputs = self.conv1(blocks[0], outputs)\n",
    "        outputs = self.conv2(blocks[1], outputs)\n",
    "        outputs = self.output(outputs)\n",
    "        return outputs"
   ]
  },
  {
   "cell_type": "code",
   "execution_count": 16,
   "metadata": {},
   "outputs": [
    {
     "name": "stderr",
     "output_type": "stream",
     "text": [
      "100%|██████████| 15510/15510 [05:21<00:00, 48.24it/s]\n"
     ]
    }
   ],
   "source": [
    "device = torch.device('cuda' if torch.cuda.is_available() else 'cpu')\n",
    "feature_dim = len(ppi.ndata['h'][0])\n",
    "hidden_size = 256\n",
    "num_classes = len(g.ndata['h']['go_annotation'][0])\n",
    "model = GCN(feature_dim, hidden_size, num_classes)\n",
    "model = model.to(device)\n",
    "optimizer = torch.optim.Adam(model.parameters())\n",
    "loss_func = torch.nn.BCEWithLogitsLoss()\n",
    "from tqdm import tqdm\n",
    "\n",
    "sampler = dgl.dataloading.NeighborSampler([3,3])\n",
    "dataloader = dgl.dataloading.DataLoader(\n",
    "    ppi, torch.arange(ppi.num_nodes()), sampler,\n",
    "    batch_size=8,\n",
    "    device=device,\n",
    "    shuffle=True,\n",
    "    drop_last=False,\n",
    "    num_workers=4\n",
    ")\n",
    "for epoch in range(1):\n",
    "    loss_all = 0\n",
    "    dataloader_tqdm = tqdm(dataloader)\n",
    "    for i, (input_nodes, output_nodes, blocks) in enumerate(dataloader_tqdm):\n",
    "        input_features = blocks[0].srcdata['h']\n",
    "        pred = model(blocks, input_features)\n",
    "        labels = torch.zeros([pred.shape[0], num_classes]).to(device)\n",
    "        loss = loss_func(pred, labels)\n",
    "        loss_all += loss\n",
    "        optimizer.zero_grad()\n",
    "        loss.backward()\n",
    "        optimizer.step()\n",
    "    loss_all = loss_all / (i+1)\n",
    "    \n"
   ]
  },
  {
   "cell_type": "code",
   "execution_count": 22,
   "metadata": {},
   "outputs": [
    {
     "name": "stdout",
     "output_type": "stream",
     "text": [
      "tensor(2.7639e-24, device='cuda:0', grad_fn=<MaxBackward1>)\n",
      "tensor(0.0002, device='cuda:0', grad_fn=<DivBackward0>)\n"
     ]
    }
   ],
   "source": [
    "print(F.sigmoid(pred).max())\n",
    "print(loss_all)"
   ]
  },
  {
   "cell_type": "code",
   "execution_count": 3,
   "metadata": {},
   "outputs": [],
   "source": [
    "import dgl\n",
    "from dgl.dataloading import BlockSampler\n",
    "\n",
    "class nodeflowSampler(BlockSampler):\n",
    "    def __init__(self, fanout, num_layers):\n",
    "        super().__init__()\n",
    "        self.fanout = fanout\n",
    "        self.num_layers = num_layers\n",
    "        \n",
    "    def sample(self, g, seed_nodes):\n",
    "        frontier = dgl.sampling.sample_neighbors(g, seed_nodes, self.fanout)\n",
    "        \n",
    "        return frontier\n",
    "        "
   ]
  },
  {
   "cell_type": "code",
   "execution_count": 6,
   "metadata": {},
   "outputs": [
    {
     "name": "stderr",
     "output_type": "stream",
     "text": [
      "/root/miniconda3/envs/pytorch2.4/lib/python3.11/site-packages/dgl/dataloading/dataloader.py:1149: DGLWarning: Dataloader CPU affinity opt is not enabled, consider switching it on (see enable_cpu_affinity() or CPU best practices for DGL [https://docs.dgl.ai/tutorials/cpu/cpu_best_practises.html])\n",
      "  dgl_warning(\n"
     ]
    },
    {
     "name": "stdout",
     "output_type": "stream",
     "text": [
      "{'go_annotation': tensor([ 5580, 11727,    48, 17745, 16902, 21624,   873, 14156,  4724, 20571,\n",
      "        16199, 14890, 17325, 15111,  4446,   242,  8556,   461,  1825,  2831,\n",
      "         2671,  3105, 15689,  9689,  2973, 16038, 13163, 11441, 18951,  8652,\n",
      "          767, 19398, 19369,  8172, 16268,   543,  2272,  4140, 11677, 10457]), 'protein': tensor([ 32885, 100773,  84355, 100808,  24470,  50295,  48835, 104497,  12404,\n",
      "         63353,  36421,  32785,   2893,  17806,  60819, 110602,  99974,  53059,\n",
      "         12280,  94177,  52625,  81683,  86981, 100855,  66669, 100708,  14424,\n",
      "         16551,  27036,  84221,  62643,  38292,  42225,  20000,  96740,  31275,\n",
      "         30599,  27334, 107619,  74222, 102975, 111183,  16244, 112304,  28469,\n",
      "         45082, 108163,  27541,  94368,  93131,  84224, 114423,  87998,  31263,\n",
      "         82588,  22101,  94728, 113318,  92851, 113710,  22034,  30128, 113296,\n",
      "        122393,  43214,  22406,  24782,  93222,  77700,  52151,  33575,  10748,\n",
      "         26937, 122563,  67092,  78993,  50626,  67016,  42458,  76788, 115654,\n",
      "         11314,  53874,  43306,  39983,  90322,  23229,  85081,  17385,  86758,\n",
      "         35522,  41791,  88491,  55830,   2895,  76498,   9411,  78857,  52262,\n",
      "        113817,  96689,  85420, 109481, 112334, 121244, 108358,  93359, 121535,\n",
      "         50650,  84287,  51616,  10724,  62809,  80047,  84290,  43047, 110881,\n",
      "         81315,  46363, 112758, 118027,  69763,  76011,  87397,  43477,   5247,\n",
      "         89843,  19283,  37148,  66738,  46644, 113873,  46686,  45004,  44287,\n",
      "        115602,  23767, 122399,  79826, 100794,  32412,  28985,  66667,  60374,\n",
      "         58654, 121720,  87323,  83915, 121683,  49911,  25486,  11085,  11311,\n",
      "        117534,  47829,  60856,  11315, 103290])}\n",
      "{'protein': tensor([ 32885, 100773,  84355, 100808,  24470,  50295,  48835, 104497])}\n",
      "[Block(num_src_nodes={'go_annotation': 40, 'protein': 158},\n",
      "      num_dst_nodes={'go_annotation': 0, 'protein': 8},\n",
      "      num_edges={('go_annotation', '_interacts_0', 'protein'): 40, ('go_annotation', '_interacts_2', 'go_annotation'): 0, ('go_annotation', 'interacts_2', 'go_annotation'): 0, ('protein', '_interacts_1', 'protein'): 80, ('protein', 'interacts_0', 'go_annotation'): 0, ('protein', 'interacts_1', 'protein'): 80},\n",
      "      metagraph=[('go_annotation', 'protein', '_interacts_0'), ('go_annotation', 'go_annotation', '_interacts_2'), ('go_annotation', 'go_annotation', 'interacts_2'), ('protein', 'protein', '_interacts_1'), ('protein', 'protein', 'interacts_1'), ('protein', 'go_annotation', 'interacts_0')])]\n"
     ]
    }
   ],
   "source": [
    "import torch\n",
    "\n",
    "fanout = 5\n",
    "num_layers = 2\n",
    "# sampler = nodeflowSampler(fanout, num_layers)\n",
    "sampler = dgl.dataloading.NeighborSampler([1])\n",
    "\n",
    "dataloader = dgl.dataloading.DataLoader(\n",
    "    g, {'protein': torch.arange(g.num_nodes('protein'))}, sampler,\n",
    "    batch_size=8,\n",
    "    shuffle=True,\n",
    "    drop_last=False,\n",
    "    num_workers=4\n",
    ")\n",
    "# sampler = dgl.dataloading.NeighborSampler([3,3])\n",
    "# dataloader = dgl.dataloading.DataLoader(\n",
    "#     g, {'protein':torch.arange(g.num_nodes('protein'))}, sampler,\n",
    "#     batch_size=8, shuffle=True, drop_last=False, num_workers=4)\n",
    "for i, j, blocks in dataloader:\n",
    "    print(i)\n",
    "    print(j)\n",
    "    print(blocks)\n",
    "    break"
   ]
  },
  {
   "cell_type": "code",
   "execution_count": null,
   "metadata": {},
   "outputs": [],
   "source": []
  }
 ],
 "metadata": {
  "kernelspec": {
   "display_name": "pytorch2.4",
   "language": "python",
   "name": "python3"
  },
  "language_info": {
   "codemirror_mode": {
    "name": "ipython",
    "version": 3
   },
   "file_extension": ".py",
   "mimetype": "text/x-python",
   "name": "python",
   "nbconvert_exporter": "python",
   "pygments_lexer": "ipython3",
   "version": "3.11.9"
  }
 },
 "nbformat": 4,
 "nbformat_minor": 2
}
