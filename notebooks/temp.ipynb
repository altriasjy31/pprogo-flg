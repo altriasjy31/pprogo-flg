{
 "cells": [
  {
   "cell_type": "code",
   "execution_count": 1,
   "metadata": {},
   "outputs": [
    {
     "name": "stderr",
     "output_type": "stream",
     "text": [
      "/root/miniconda3/envs/pytorch2.4/lib/python3.11/site-packages/torchdata/datapipes/__init__.py:18: UserWarning: \n",
      "################################################################################\n",
      "WARNING!\n",
      "The 'datapipes', 'dataloader2' modules are deprecated and will be removed in a\n",
      "future torchdata release! Please see https://github.com/pytorch/data/issues/1196\n",
      "to learn more and leave feedback.\n",
      "################################################################################\n",
      "\n",
      "  deprecation_warning()\n",
      "/root/miniconda3/envs/pytorch2.4/lib/python3.11/site-packages/tqdm/auto.py:21: TqdmWarning: IProgress not found. Please update jupyter and ipywidgets. See https://ipywidgets.readthedocs.io/en/stable/user_install.html\n",
      "  from .autonotebook import tqdm as notebook_tqdm\n"
     ]
    },
    {
     "name": "stdout",
     "output_type": "stream",
     "text": [
      "采样到的节点数: 5\n",
      "采样到的边数: 4\n",
      "采样到的 protein 节点: tensor([0, 1, 2])\n",
      "采样到的边类型与索引:\n",
      "边类型 ('go_annotation', '_interacts_0', 'protein'): (tensor([], dtype=torch.int64), tensor([], dtype=torch.int64))\n",
      "边类型 ('go_annotation', '_interacts_2', 'go_annotation'): (tensor([], dtype=torch.int64), tensor([], dtype=torch.int64))\n",
      "边类型 ('go_annotation', 'interacts_2', 'go_annotation'): (tensor([], dtype=torch.int64), tensor([], dtype=torch.int64))\n",
      "边类型 ('protein', '_interacts_1', 'protein'): (tensor([1, 2]), tensor([0, 1]))\n",
      "边类型 ('protein', 'interacts_0', 'go_annotation'): (tensor([], dtype=torch.int64), tensor([], dtype=torch.int64))\n",
      "边类型 ('protein', 'interacts_1', 'protein'): (tensor([2, 0]), tensor([0, 1]))\n"
     ]
    }
   ],
   "source": [
    "import dgl\n",
    "import torch\n",
    "\n",
    "# 创建一个示例异构图 (Heterogeneous Graph)\n",
    "data_dict = {\n",
    "    ('protein', 'interacts_1', 'protein'): (torch.tensor([0, 1, 2]), torch.tensor([1, 2, 0])),\n",
    "    ('protein', '_interacts_1', 'protein'): (torch.tensor([1, 2, 0]), torch.tensor([0, 1, 2])),\n",
    "    ('protein', 'interacts_0', 'go_annotation'): (torch.tensor([0, 1]), torch.tensor([0, 1])),\n",
    "    ('go_annotation', '_interacts_0', 'protein'): (torch.tensor([0, 1]), torch.tensor([0, 1])),\n",
    "    ('go_annotation', 'interacts_2', 'go_annotation'): (torch.tensor([0, 1]), torch.tensor([1, 0])),\n",
    "    ('go_annotation', '_interacts_2', 'go_annotation'): (torch.tensor([1, 0]), torch.tensor([0, 1]))\n",
    "}\n",
    "\n",
    "g = dgl.heterograph(data_dict)\n",
    "\n",
    "# 假设我们从 'protein' 节点集合中采样，定义 batch_nodes\n",
    "batch_nodes = torch.tensor([0, 1])  # 假设从 'protein' 类型中的节点 [0, 1] 作为批次\n",
    "\n",
    "# 定义 fanout 参数, 限制 'protein' 与 'protein' 之间的交互数量\n",
    "fanout = {\n",
    "    ('protein', 'interacts_0', 'go_annotation'): 0,    # 不采样\n",
    "    ('go_annotation', '_interacts_0', 'protein'): 0,   # 不采样\n",
    "    ('protein', 'interacts_1', 'protein'): 2,          # 每个节点最多采样2个 protein 作为邻居\n",
    "    ('protein', '_interacts_1', 'protein'): 2,         # 每个节点最多采样2个 protein 作为邻居\n",
    "    ('go_annotation', 'interacts_2', 'go_annotation'): 0,  # 不采样\n",
    "    ('go_annotation', '_interacts_2', 'go_annotation'): 0   # 不采样\n",
    "}\n",
    "\n",
    "# 使用 DGL 的 sample_neighbors 函数进行邻居采样\n",
    "protein_protein_subgraph = dgl.sampling.sample_neighbors(\n",
    "    g, {'protein': batch_nodes}, fanout=fanout\n",
    ")\n",
    "\n",
    "# 输出采样结果\n",
    "print(\"采样到的节点数:\", protein_protein_subgraph.num_nodes())\n",
    "print(\"采样到的边数:\", protein_protein_subgraph.num_edges())\n",
    "\n",
    "# 输出子图中的节点和边\n",
    "print(\"采样到的 protein 节点:\", protein_protein_subgraph.nodes('protein'))\n",
    "print(\"采样到的边类型与索引:\")\n",
    "for etype in protein_protein_subgraph.canonical_etypes:\n",
    "    print(f\"边类型 {etype}: {protein_protein_subgraph.edges(etype=etype)}\")\n"
   ]
  },
  {
   "cell_type": "code",
   "execution_count": 2,
   "metadata": {},
   "outputs": [
    {
     "name": "stdout",
     "output_type": "stream",
     "text": [
      "Graph(num_nodes={'go_annotation': 2, 'protein': 3},\n",
      "      num_edges={('go_annotation', '_interacts_0', 'protein'): 2, ('go_annotation', '_interacts_2', 'go_annotation'): 2, ('go_annotation', 'interacts_2', 'go_annotation'): 2, ('protein', '_interacts_1', 'protein'): 3, ('protein', 'interacts_0', 'go_annotation'): 2, ('protein', 'interacts_1', 'protein'): 3},\n",
      "      metagraph=[('go_annotation', 'protein', '_interacts_0'), ('go_annotation', 'go_annotation', '_interacts_2'), ('go_annotation', 'go_annotation', 'interacts_2'), ('protein', 'protein', '_interacts_1'), ('protein', 'protein', 'interacts_1'), ('protein', 'go_annotation', 'interacts_0')])\n"
     ]
    }
   ],
   "source": [
    "print(g)\n",
    "print(protein_protein_subgraph)"
   ]
  }
 ],
 "metadata": {
  "kernelspec": {
   "display_name": "pytorch2.4",
   "language": "python",
   "name": "python3"
  },
  "language_info": {
   "codemirror_mode": {
    "name": "ipython",
    "version": 3
   },
   "file_extension": ".py",
   "mimetype": "text/x-python",
   "name": "python",
   "nbconvert_exporter": "python",
   "pygments_lexer": "ipython3",
   "version": "3.11.9"
  }
 },
 "nbformat": 4,
 "nbformat_minor": 2
}
